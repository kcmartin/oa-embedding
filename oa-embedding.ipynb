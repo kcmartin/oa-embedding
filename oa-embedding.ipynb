{
 "cells": [
  {
   "cell_type": "code",
   "execution_count": 1,
   "id": "5dbe607b-3a6b-47bb-b8f0-d7764fef9b62",
   "metadata": {
    "tags": []
   },
   "outputs": [],
   "source": [
    "import os\n",
    "import openai\n",
    "\n",
    "openai.api_key = os.getenv(\"OPENAI_API_KEY\")"
   ]
  },
  {
   "cell_type": "code",
   "execution_count": 2,
   "id": "77884f56-164a-4b13-b944-afd745d88c3c",
   "metadata": {
    "tags": []
   },
   "outputs": [],
   "source": [
    "prompt = '''Only answer the question below if you have 100% certainty of the facts.\n",
    "Context: {context}\n",
    "Q: What does the start-up company Pentera do and who invested in it?\n",
    "A:'''"
   ]
  },
  {
   "cell_type": "code",
   "execution_count": null,
   "id": "28b606d9-fca7-4e52-940e-d3b8108ebbde",
   "metadata": {},
   "outputs": [],
   "source": []
  },
  {
   "cell_type": "code",
   "execution_count": null,
   "id": "bde438f7-03c2-45b3-a18d-d83467e21377",
   "metadata": {},
   "outputs": [],
   "source": []
  },
  {
   "cell_type": "code",
   "execution_count": 3,
   "id": "3546d8a2-6537-4d87-b607-f4fa4eb50273",
   "metadata": {
    "tags": []
   },
   "outputs": [],
   "source": [
    "import pandas as pd"
   ]
  },
  {
   "cell_type": "code",
   "execution_count": 4,
   "id": "a0631b7a-e384-416c-8e01-bcf1b1317434",
   "metadata": {
    "tags": []
   },
   "outputs": [],
   "source": [
    "df = pd.read_csv(\"unicorns.csv\")"
   ]
  },
  {
   "cell_type": "code",
   "execution_count": 5,
   "id": "9eb91f5e-afa6-4fe0-8f84-581713727abe",
   "metadata": {
    "tags": []
   },
   "outputs": [
    {
     "data": {
      "text/html": [
       "<div>\n",
       "<style scoped>\n",
       "    .dataframe tbody tr th:only-of-type {\n",
       "        vertical-align: middle;\n",
       "    }\n",
       "\n",
       "    .dataframe tbody tr th {\n",
       "        vertical-align: top;\n",
       "    }\n",
       "\n",
       "    .dataframe thead th {\n",
       "        text-align: right;\n",
       "    }\n",
       "</style>\n",
       "<table border=\"1\" class=\"dataframe\">\n",
       "  <thead>\n",
       "    <tr style=\"text-align: right;\">\n",
       "      <th></th>\n",
       "      <th>Updated at</th>\n",
       "      <th>Company</th>\n",
       "      <th>Crunchbase Url</th>\n",
       "      <th>Last Valuation (Billion $)</th>\n",
       "      <th>Date Joined</th>\n",
       "      <th>Year Joined</th>\n",
       "      <th>City</th>\n",
       "      <th>Country</th>\n",
       "      <th>Industry</th>\n",
       "      <th>Investors</th>\n",
       "      <th>Company Website</th>\n",
       "    </tr>\n",
       "  </thead>\n",
       "  <tbody>\n",
       "    <tr>\n",
       "      <th>0</th>\n",
       "      <td>10/31/2022, 2:37:05 AM</td>\n",
       "      <td>Esusu</td>\n",
       "      <td>https://www.cbinsights.com/company/esusu</td>\n",
       "      <td>1.0</td>\n",
       "      <td>1/27/2022</td>\n",
       "      <td>2022</td>\n",
       "      <td>New York</td>\n",
       "      <td>United States</td>\n",
       "      <td>Fintech</td>\n",
       "      <td>[\"Next Play Ventures\",\"Zeal Capital Partners\",...</td>\n",
       "      <td>NaN</td>\n",
       "    </tr>\n",
       "    <tr>\n",
       "      <th>1</th>\n",
       "      <td>10/31/2022, 2:37:05 AM</td>\n",
       "      <td>Fever Labs</td>\n",
       "      <td>https://www.cbinsights.com/company/fever-labs</td>\n",
       "      <td>1.0</td>\n",
       "      <td>1/26/2022</td>\n",
       "      <td>2022</td>\n",
       "      <td>New York</td>\n",
       "      <td>United States</td>\n",
       "      <td>Internet software &amp; services</td>\n",
       "      <td>[\"Accel\",\"14W\",\"GS Growth\"]</td>\n",
       "      <td>NaN</td>\n",
       "    </tr>\n",
       "    <tr>\n",
       "      <th>2</th>\n",
       "      <td>10/31/2022, 2:37:04 AM</td>\n",
       "      <td>Minio</td>\n",
       "      <td>https://www.cbinsights.com/company/minio</td>\n",
       "      <td>1.0</td>\n",
       "      <td>1/26/2022</td>\n",
       "      <td>2022</td>\n",
       "      <td>Palo Alto</td>\n",
       "      <td>United States</td>\n",
       "      <td>Data management &amp; analytics</td>\n",
       "      <td>[\"General Catalyst\",\"Nexus Venture Partners\",\"...</td>\n",
       "      <td>NaN</td>\n",
       "    </tr>\n",
       "    <tr>\n",
       "      <th>3</th>\n",
       "      <td>10/31/2022, 2:37:04 AM</td>\n",
       "      <td>Darwinbox</td>\n",
       "      <td>https://www.cbinsights.com/company/darwinbox</td>\n",
       "      <td>1.0</td>\n",
       "      <td>1/25/2022</td>\n",
       "      <td>2022</td>\n",
       "      <td>Hyderabad</td>\n",
       "      <td>India</td>\n",
       "      <td>Internet software &amp; services</td>\n",
       "      <td>[\"Lightspeed India Partners\",\"Sequoia Capital ...</td>\n",
       "      <td>NaN</td>\n",
       "    </tr>\n",
       "    <tr>\n",
       "      <th>4</th>\n",
       "      <td>10/31/2022, 2:37:04 AM</td>\n",
       "      <td>Pentera</td>\n",
       "      <td>https://www.cbinsights.com/company/pcysys</td>\n",
       "      <td>1.0</td>\n",
       "      <td>1/11/2022</td>\n",
       "      <td>2022</td>\n",
       "      <td>Petah Tikva</td>\n",
       "      <td>Israel</td>\n",
       "      <td>Cybersecurity</td>\n",
       "      <td>[\"AWZ Ventures\",\"Blackstone\",\"Insight Partners\"]</td>\n",
       "      <td>NaN</td>\n",
       "    </tr>\n",
       "  </tbody>\n",
       "</table>\n",
       "</div>"
      ],
      "text/plain": [
       "               Updated at     Company  \\\n",
       "0  10/31/2022, 2:37:05 AM       Esusu   \n",
       "1  10/31/2022, 2:37:05 AM  Fever Labs   \n",
       "2  10/31/2022, 2:37:04 AM       Minio   \n",
       "3  10/31/2022, 2:37:04 AM   Darwinbox   \n",
       "4  10/31/2022, 2:37:04 AM     Pentera   \n",
       "\n",
       "                                  Crunchbase Url  Last Valuation (Billion $)  \\\n",
       "0       https://www.cbinsights.com/company/esusu                         1.0   \n",
       "1  https://www.cbinsights.com/company/fever-labs                         1.0   \n",
       "2       https://www.cbinsights.com/company/minio                         1.0   \n",
       "3   https://www.cbinsights.com/company/darwinbox                         1.0   \n",
       "4      https://www.cbinsights.com/company/pcysys                         1.0   \n",
       "\n",
       "  Date Joined  Year Joined         City        Country  \\\n",
       "0   1/27/2022         2022     New York  United States   \n",
       "1   1/26/2022         2022     New York  United States   \n",
       "2   1/26/2022         2022    Palo Alto  United States   \n",
       "3   1/25/2022         2022    Hyderabad          India   \n",
       "4   1/11/2022         2022  Petah Tikva         Israel   \n",
       "\n",
       "                       Industry  \\\n",
       "0                       Fintech   \n",
       "1  Internet software & services   \n",
       "2   Data management & analytics   \n",
       "3  Internet software & services   \n",
       "4                Cybersecurity    \n",
       "\n",
       "                                           Investors  Company Website  \n",
       "0  [\"Next Play Ventures\",\"Zeal Capital Partners\",...              NaN  \n",
       "1                        [\"Accel\",\"14W\",\"GS Growth\"]              NaN  \n",
       "2  [\"General Catalyst\",\"Nexus Venture Partners\",\"...              NaN  \n",
       "3  [\"Lightspeed India Partners\",\"Sequoia Capital ...              NaN  \n",
       "4   [\"AWZ Ventures\",\"Blackstone\",\"Insight Partners\"]              NaN  "
      ]
     },
     "execution_count": 5,
     "metadata": {},
     "output_type": "execute_result"
    }
   ],
   "source": [
    "df.head()"
   ]
  },
  {
   "cell_type": "code",
   "execution_count": 6,
   "id": "a9c4a9a1-2761-4494-9cca-b99247e830ff",
   "metadata": {
    "tags": []
   },
   "outputs": [],
   "source": [
    "import ast"
   ]
  },
  {
   "cell_type": "code",
   "execution_count": 10,
   "id": "2915f87a-9112-4827-9510-7ce14646303f",
   "metadata": {
    "tags": []
   },
   "outputs": [],
   "source": [
    "import ast \n",
    "def summary(company,crunchbase_url,city,country,industry,investor_list):\n",
    "    investors = 'The investors in the company are'\n",
    "     \n",
    "    for investor in ast.literal_eval(investor_list):\n",
    "        investors += f\" {investor}, \"\n",
    "\n",
    "    text = f\"{company} has headquarters in {city} in {country} and is in the field of {industry}. {investors}. You can find more information at {crunchbase_url}\"\n",
    "\n",
    "    return text "
   ]
  },
  {
   "cell_type": "code",
   "execution_count": 11,
   "id": "c4dbf88f-abf8-479d-b8eb-c793b8d4c1e9",
   "metadata": {
    "tags": []
   },
   "outputs": [],
   "source": [
    "df['summary'] = df.apply(lambda df: summary(df['Company'],df['Crunchbase Url'],df['City'],df['Country'],df['Industry'],df['Investors']),axis=1)"
   ]
  },
  {
   "cell_type": "code",
   "execution_count": 13,
   "id": "c0e20f60-98ad-4fd6-84f3-50ccdfad3df7",
   "metadata": {
    "tags": []
   },
   "outputs": [
    {
     "data": {
      "text/plain": [
       "'Esusu has headquarters in New York in United States and is in the field of Fintech. The investors in the company are Next Play Ventures,  Zeal Capital Partners,  SoftBank Group, . You can find more information at https://www.cbinsights.com/company/esusu'"
      ]
     },
     "execution_count": 13,
     "metadata": {},
     "output_type": "execute_result"
    }
   ],
   "source": [
    "df['summary'][0]"
   ]
  },
  {
   "cell_type": "code",
   "execution_count": 14,
   "id": "73f1ce96-fe73-4ece-b7e6-f6cb97b89d0f",
   "metadata": {
    "tags": []
   },
   "outputs": [],
   "source": [
    "# let's get a token count"
   ]
  },
  {
   "cell_type": "code",
   "execution_count": 15,
   "id": "2617fe65-2e71-46ca-a552-214e21710ca4",
   "metadata": {
    "tags": []
   },
   "outputs": [],
   "source": [
    "import tiktoken"
   ]
  },
  {
   "cell_type": "code",
   "execution_count": 16,
   "id": "6d453e34-c168-4e4d-bfa8-275d8902425d",
   "metadata": {
    "tags": []
   },
   "outputs": [],
   "source": [
    "def num_tokens_from_string(string,encoding_name):\n",
    "    encoding = tiktoken.get_encoding(encoding_name)\n",
    "    num_tokens = len(encoding.encode(string))\n",
    "    return num_tokens"
   ]
  },
  {
   "cell_type": "code",
   "execution_count": 17,
   "id": "e53709af-016f-4ea6-8175-44d89975806d",
   "metadata": {
    "tags": []
   },
   "outputs": [
    {
     "data": {
      "text/plain": [
       "58"
      ]
     },
     "execution_count": 17,
     "metadata": {},
     "output_type": "execute_result"
    }
   ],
   "source": [
    "num_tokens_from_string(df['summary'][0],\"cl100k_base\")"
   ]
  },
  {
   "cell_type": "code",
   "execution_count": 20,
   "id": "f6f59515-42be-435f-80e7-6ba686c1d4a0",
   "metadata": {
    "tags": []
   },
   "outputs": [],
   "source": [
    "df['token_count'] = df['summary'].apply(lambda text:num_tokens_from_string(text,\"cl100k_base\"))"
   ]
  },
  {
   "cell_type": "code",
   "execution_count": 21,
   "id": "d1842eb1-8077-4512-a6db-4d656c271bf4",
   "metadata": {
    "tags": []
   },
   "outputs": [
    {
     "data": {
      "text/html": [
       "<div>\n",
       "<style scoped>\n",
       "    .dataframe tbody tr th:only-of-type {\n",
       "        vertical-align: middle;\n",
       "    }\n",
       "\n",
       "    .dataframe tbody tr th {\n",
       "        vertical-align: top;\n",
       "    }\n",
       "\n",
       "    .dataframe thead th {\n",
       "        text-align: right;\n",
       "    }\n",
       "</style>\n",
       "<table border=\"1\" class=\"dataframe\">\n",
       "  <thead>\n",
       "    <tr style=\"text-align: right;\">\n",
       "      <th></th>\n",
       "      <th>Updated at</th>\n",
       "      <th>Company</th>\n",
       "      <th>Crunchbase Url</th>\n",
       "      <th>Last Valuation (Billion $)</th>\n",
       "      <th>Date Joined</th>\n",
       "      <th>Year Joined</th>\n",
       "      <th>City</th>\n",
       "      <th>Country</th>\n",
       "      <th>Industry</th>\n",
       "      <th>Investors</th>\n",
       "      <th>Company Website</th>\n",
       "      <th>summary</th>\n",
       "      <th>token_count</th>\n",
       "    </tr>\n",
       "  </thead>\n",
       "  <tbody>\n",
       "    <tr>\n",
       "      <th>0</th>\n",
       "      <td>10/31/2022, 2:37:05 AM</td>\n",
       "      <td>Esusu</td>\n",
       "      <td>https://www.cbinsights.com/company/esusu</td>\n",
       "      <td>1.00</td>\n",
       "      <td>1/27/2022</td>\n",
       "      <td>2022</td>\n",
       "      <td>New York</td>\n",
       "      <td>United States</td>\n",
       "      <td>Fintech</td>\n",
       "      <td>[\"Next Play Ventures\",\"Zeal Capital Partners\",...</td>\n",
       "      <td>NaN</td>\n",
       "      <td>Esusu has headquarters in New York in United S...</td>\n",
       "      <td>58</td>\n",
       "    </tr>\n",
       "    <tr>\n",
       "      <th>1</th>\n",
       "      <td>10/31/2022, 2:37:05 AM</td>\n",
       "      <td>Fever Labs</td>\n",
       "      <td>https://www.cbinsights.com/company/fever-labs</td>\n",
       "      <td>1.00</td>\n",
       "      <td>1/26/2022</td>\n",
       "      <td>2022</td>\n",
       "      <td>New York</td>\n",
       "      <td>United States</td>\n",
       "      <td>Internet software &amp; services</td>\n",
       "      <td>[\"Accel\",\"14W\",\"GS Growth\"]</td>\n",
       "      <td>NaN</td>\n",
       "      <td>Fever Labs has headquarters in New York in Uni...</td>\n",
       "      <td>60</td>\n",
       "    </tr>\n",
       "    <tr>\n",
       "      <th>2</th>\n",
       "      <td>10/31/2022, 2:37:04 AM</td>\n",
       "      <td>Minio</td>\n",
       "      <td>https://www.cbinsights.com/company/minio</td>\n",
       "      <td>1.00</td>\n",
       "      <td>1/26/2022</td>\n",
       "      <td>2022</td>\n",
       "      <td>Palo Alto</td>\n",
       "      <td>United States</td>\n",
       "      <td>Data management &amp; analytics</td>\n",
       "      <td>[\"General Catalyst\",\"Nexus Venture Partners\",\"...</td>\n",
       "      <td>NaN</td>\n",
       "      <td>Minio has headquarters in Palo Alto in United ...</td>\n",
       "      <td>57</td>\n",
       "    </tr>\n",
       "    <tr>\n",
       "      <th>3</th>\n",
       "      <td>10/31/2022, 2:37:04 AM</td>\n",
       "      <td>Darwinbox</td>\n",
       "      <td>https://www.cbinsights.com/company/darwinbox</td>\n",
       "      <td>1.00</td>\n",
       "      <td>1/25/2022</td>\n",
       "      <td>2022</td>\n",
       "      <td>Hyderabad</td>\n",
       "      <td>India</td>\n",
       "      <td>Internet software &amp; services</td>\n",
       "      <td>[\"Lightspeed India Partners\",\"Sequoia Capital ...</td>\n",
       "      <td>NaN</td>\n",
       "      <td>Darwinbox has headquarters in Hyderabad in Ind...</td>\n",
       "      <td>62</td>\n",
       "    </tr>\n",
       "    <tr>\n",
       "      <th>4</th>\n",
       "      <td>10/31/2022, 2:37:04 AM</td>\n",
       "      <td>Pentera</td>\n",
       "      <td>https://www.cbinsights.com/company/pcysys</td>\n",
       "      <td>1.00</td>\n",
       "      <td>1/11/2022</td>\n",
       "      <td>2022</td>\n",
       "      <td>Petah Tikva</td>\n",
       "      <td>Israel</td>\n",
       "      <td>Cybersecurity</td>\n",
       "      <td>[\"AWZ Ventures\",\"Blackstone\",\"Insight Partners\"]</td>\n",
       "      <td>NaN</td>\n",
       "      <td>Pentera has headquarters in Petah Tikva in Isr...</td>\n",
       "      <td>58</td>\n",
       "    </tr>\n",
       "    <tr>\n",
       "      <th>...</th>\n",
       "      <td>...</td>\n",
       "      <td>...</td>\n",
       "      <td>...</td>\n",
       "      <td>...</td>\n",
       "      <td>...</td>\n",
       "      <td>...</td>\n",
       "      <td>...</td>\n",
       "      <td>...</td>\n",
       "      <td>...</td>\n",
       "      <td>...</td>\n",
       "      <td>...</td>\n",
       "      <td>...</td>\n",
       "      <td>...</td>\n",
       "    </tr>\n",
       "    <tr>\n",
       "      <th>1194</th>\n",
       "      <td>10/31/2022, 2:32:42 AM</td>\n",
       "      <td>Fanatics</td>\n",
       "      <td>https://www.cbinsights.com/company/fanatics</td>\n",
       "      <td>27.00</td>\n",
       "      <td>6/6/2012</td>\n",
       "      <td>2012</td>\n",
       "      <td>Jacksonville</td>\n",
       "      <td>United States</td>\n",
       "      <td>E-commerce &amp; direct-to-consumer</td>\n",
       "      <td>[\"SoftBank Group\",\"Andreessen Horowitz\",\"Temas...</td>\n",
       "      <td>NaN</td>\n",
       "      <td>Fanatics has headquarters in Jacksonville in U...</td>\n",
       "      <td>63</td>\n",
       "    </tr>\n",
       "    <tr>\n",
       "      <th>1195</th>\n",
       "      <td>10/31/2022, 2:32:38 AM</td>\n",
       "      <td>SpaceX</td>\n",
       "      <td>https://www.cbinsights.com/company/space-explo...</td>\n",
       "      <td>127.00</td>\n",
       "      <td>12/1/2012</td>\n",
       "      <td>2012</td>\n",
       "      <td>Hawthorne</td>\n",
       "      <td>United States</td>\n",
       "      <td>Other</td>\n",
       "      <td>[\"Founders Fund\",\"Draper Fisher Jurvetson\",\"Ro...</td>\n",
       "      <td>NaN</td>\n",
       "      <td>SpaceX has headquarters in Hawthorne in United...</td>\n",
       "      <td>65</td>\n",
       "    </tr>\n",
       "    <tr>\n",
       "      <th>1196</th>\n",
       "      <td>10/31/2022, 2:33:10 AM</td>\n",
       "      <td>Vice Media</td>\n",
       "      <td>https://www.cbinsights.com/company/vice-media</td>\n",
       "      <td>5.70</td>\n",
       "      <td>4/2/2011</td>\n",
       "      <td>2011</td>\n",
       "      <td>Brooklyn</td>\n",
       "      <td>United States</td>\n",
       "      <td>Internet software &amp; services</td>\n",
       "      <td>[\"Technology Crossover Ventures\",\"A&amp;E Televisi...</td>\n",
       "      <td>NaN</td>\n",
       "      <td>Vice Media has headquarters in Brooklyn in Uni...</td>\n",
       "      <td>56</td>\n",
       "    </tr>\n",
       "    <tr>\n",
       "      <th>1197</th>\n",
       "      <td>10/31/2022, 2:33:05 AM</td>\n",
       "      <td>Klarna</td>\n",
       "      <td>https://www.cbinsights.com/company/klarna</td>\n",
       "      <td>6.70</td>\n",
       "      <td>12/12/2011</td>\n",
       "      <td>2011</td>\n",
       "      <td>Stockholm</td>\n",
       "      <td>Sweden</td>\n",
       "      <td>Fintech</td>\n",
       "      <td>[\"Institutional Venture Partners\",\"Sequoia Cap...</td>\n",
       "      <td>NaN</td>\n",
       "      <td>Klarna has headquarters in Stockholm in Sweden...</td>\n",
       "      <td>57</td>\n",
       "    </tr>\n",
       "    <tr>\n",
       "      <th>1198</th>\n",
       "      <td>10/31/2022, 2:35:27 AM</td>\n",
       "      <td>Veepee</td>\n",
       "      <td>https://www.cbinsights.com/company/vente-privee</td>\n",
       "      <td>1.38</td>\n",
       "      <td>7/2/2007</td>\n",
       "      <td>2007</td>\n",
       "      <td>La Plaine Saint-Denis</td>\n",
       "      <td>France</td>\n",
       "      <td>E-commerce &amp; direct-to-consumer</td>\n",
       "      <td>[\"Summit Partners\",\"Qatar Holding\"]</td>\n",
       "      <td>NaN</td>\n",
       "      <td>Veepee has headquarters in La Plaine Saint-Den...</td>\n",
       "      <td>62</td>\n",
       "    </tr>\n",
       "  </tbody>\n",
       "</table>\n",
       "<p>1199 rows × 13 columns</p>\n",
       "</div>"
      ],
      "text/plain": [
       "                  Updated at     Company  \\\n",
       "0     10/31/2022, 2:37:05 AM       Esusu   \n",
       "1     10/31/2022, 2:37:05 AM  Fever Labs   \n",
       "2     10/31/2022, 2:37:04 AM       Minio   \n",
       "3     10/31/2022, 2:37:04 AM   Darwinbox   \n",
       "4     10/31/2022, 2:37:04 AM     Pentera   \n",
       "...                      ...         ...   \n",
       "1194  10/31/2022, 2:32:42 AM    Fanatics   \n",
       "1195  10/31/2022, 2:32:38 AM      SpaceX   \n",
       "1196  10/31/2022, 2:33:10 AM  Vice Media   \n",
       "1197  10/31/2022, 2:33:05 AM      Klarna   \n",
       "1198  10/31/2022, 2:35:27 AM      Veepee   \n",
       "\n",
       "                                         Crunchbase Url  \\\n",
       "0              https://www.cbinsights.com/company/esusu   \n",
       "1         https://www.cbinsights.com/company/fever-labs   \n",
       "2              https://www.cbinsights.com/company/minio   \n",
       "3          https://www.cbinsights.com/company/darwinbox   \n",
       "4             https://www.cbinsights.com/company/pcysys   \n",
       "...                                                 ...   \n",
       "1194        https://www.cbinsights.com/company/fanatics   \n",
       "1195  https://www.cbinsights.com/company/space-explo...   \n",
       "1196      https://www.cbinsights.com/company/vice-media   \n",
       "1197          https://www.cbinsights.com/company/klarna   \n",
       "1198    https://www.cbinsights.com/company/vente-privee   \n",
       "\n",
       "      Last Valuation (Billion $) Date Joined  Year Joined  \\\n",
       "0                           1.00   1/27/2022         2022   \n",
       "1                           1.00   1/26/2022         2022   \n",
       "2                           1.00   1/26/2022         2022   \n",
       "3                           1.00   1/25/2022         2022   \n",
       "4                           1.00   1/11/2022         2022   \n",
       "...                          ...         ...          ...   \n",
       "1194                       27.00    6/6/2012         2012   \n",
       "1195                      127.00   12/1/2012         2012   \n",
       "1196                        5.70    4/2/2011         2011   \n",
       "1197                        6.70  12/12/2011         2011   \n",
       "1198                        1.38    7/2/2007         2007   \n",
       "\n",
       "                       City        Country                         Industry  \\\n",
       "0                  New York  United States                          Fintech   \n",
       "1                  New York  United States     Internet software & services   \n",
       "2                 Palo Alto  United States      Data management & analytics   \n",
       "3                 Hyderabad          India     Internet software & services   \n",
       "4               Petah Tikva         Israel                   Cybersecurity    \n",
       "...                     ...            ...                              ...   \n",
       "1194           Jacksonville  United States  E-commerce & direct-to-consumer   \n",
       "1195              Hawthorne  United States                            Other   \n",
       "1196               Brooklyn  United States     Internet software & services   \n",
       "1197              Stockholm         Sweden                          Fintech   \n",
       "1198  La Plaine Saint-Denis         France  E-commerce & direct-to-consumer   \n",
       "\n",
       "                                              Investors  Company Website  \\\n",
       "0     [\"Next Play Ventures\",\"Zeal Capital Partners\",...              NaN   \n",
       "1                           [\"Accel\",\"14W\",\"GS Growth\"]              NaN   \n",
       "2     [\"General Catalyst\",\"Nexus Venture Partners\",\"...              NaN   \n",
       "3     [\"Lightspeed India Partners\",\"Sequoia Capital ...              NaN   \n",
       "4      [\"AWZ Ventures\",\"Blackstone\",\"Insight Partners\"]              NaN   \n",
       "...                                                 ...              ...   \n",
       "1194  [\"SoftBank Group\",\"Andreessen Horowitz\",\"Temas...              NaN   \n",
       "1195  [\"Founders Fund\",\"Draper Fisher Jurvetson\",\"Ro...              NaN   \n",
       "1196  [\"Technology Crossover Ventures\",\"A&E Televisi...              NaN   \n",
       "1197  [\"Institutional Venture Partners\",\"Sequoia Cap...              NaN   \n",
       "1198                [\"Summit Partners\",\"Qatar Holding\"]              NaN   \n",
       "\n",
       "                                                summary  token_count  \n",
       "0     Esusu has headquarters in New York in United S...           58  \n",
       "1     Fever Labs has headquarters in New York in Uni...           60  \n",
       "2     Minio has headquarters in Palo Alto in United ...           57  \n",
       "3     Darwinbox has headquarters in Hyderabad in Ind...           62  \n",
       "4     Pentera has headquarters in Petah Tikva in Isr...           58  \n",
       "...                                                 ...          ...  \n",
       "1194  Fanatics has headquarters in Jacksonville in U...           63  \n",
       "1195  SpaceX has headquarters in Hawthorne in United...           65  \n",
       "1196  Vice Media has headquarters in Brooklyn in Uni...           56  \n",
       "1197  Klarna has headquarters in Stockholm in Sweden...           57  \n",
       "1198  Veepee has headquarters in La Plaine Saint-Den...           62  \n",
       "\n",
       "[1199 rows x 13 columns]"
      ]
     },
     "execution_count": 21,
     "metadata": {},
     "output_type": "execute_result"
    }
   ],
   "source": [
    "df"
   ]
  },
  {
   "cell_type": "code",
   "execution_count": 23,
   "id": "8751e5a1-1bc3-4ca7-b3bd-be3336b62c1a",
   "metadata": {
    "tags": []
   },
   "outputs": [
    {
     "data": {
      "text/plain": [
       "0.028168400000000003"
      ]
     },
     "execution_count": 23,
     "metadata": {},
     "output_type": "execute_result"
    }
   ],
   "source": [
    "df['token_count'].sum() * 0.0004 / 1000"
   ]
  },
  {
   "cell_type": "code",
   "execution_count": 24,
   "id": "aa1a5b50-b22f-44c4-9482-e3a673fd85a5",
   "metadata": {
    "tags": []
   },
   "outputs": [],
   "source": [
    "def get_embedding(text):\n",
    "    result = openai.Embedding.create(\n",
    "            model='text-embedding-ada-002',\n",
    "            input=text\n",
    "    )\n",
    "    return result['data'][0]['embedding']"
   ]
  },
  {
   "cell_type": "code",
   "execution_count": 27,
   "id": "9f4e81ca-f4ac-4012-a592-2872eb9fec45",
   "metadata": {
    "tags": []
   },
   "outputs": [
    {
     "ename": "RateLimitError",
     "evalue": "You exceeded your current quota, please check your plan and billing details.",
     "output_type": "error",
     "traceback": [
      "\u001b[0;31m---------------------------------------------------------------------------\u001b[0m",
      "\u001b[0;31mRateLimitError\u001b[0m                            Traceback (most recent call last)",
      "Cell \u001b[0;32mIn[27], line 1\u001b[0m\n\u001b[0;32m----> 1\u001b[0m \u001b[43mget_embedding\u001b[49m\u001b[43m(\u001b[49m\u001b[38;5;124;43m'\u001b[39;49m\u001b[38;5;124;43mEsusu has headquarters in New York in United States and is in the field of Fintech. The investors in the company are Next Play Ventures,  Zeal Capital Partners,  SoftBank Group, . You can find more information at https://www.cbinsights.com/company/esusu\u001b[39;49m\u001b[38;5;124;43m'\u001b[39;49m\u001b[43m)\u001b[49m\n",
      "Cell \u001b[0;32mIn[24], line 2\u001b[0m, in \u001b[0;36mget_embedding\u001b[0;34m(text)\u001b[0m\n\u001b[1;32m      1\u001b[0m \u001b[38;5;28;01mdef\u001b[39;00m \u001b[38;5;21mget_embedding\u001b[39m(text):\n\u001b[0;32m----> 2\u001b[0m     result \u001b[38;5;241m=\u001b[39m \u001b[43mopenai\u001b[49m\u001b[38;5;241;43m.\u001b[39;49m\u001b[43mEmbedding\u001b[49m\u001b[38;5;241;43m.\u001b[39;49m\u001b[43mcreate\u001b[49m\u001b[43m(\u001b[49m\n\u001b[1;32m      3\u001b[0m \u001b[43m            \u001b[49m\u001b[43mmodel\u001b[49m\u001b[38;5;241;43m=\u001b[39;49m\u001b[38;5;124;43m'\u001b[39;49m\u001b[38;5;124;43mtext-embedding-ada-002\u001b[39;49m\u001b[38;5;124;43m'\u001b[39;49m\u001b[43m,\u001b[49m\n\u001b[1;32m      4\u001b[0m \u001b[43m            \u001b[49m\u001b[38;5;28;43minput\u001b[39;49m\u001b[38;5;241;43m=\u001b[39;49m\u001b[43mtext\u001b[49m\n\u001b[1;32m      5\u001b[0m \u001b[43m    \u001b[49m\u001b[43m)\u001b[49m\n\u001b[1;32m      6\u001b[0m     \u001b[38;5;28;01mreturn\u001b[39;00m result[\u001b[38;5;124m'\u001b[39m\u001b[38;5;124mdata\u001b[39m\u001b[38;5;124m'\u001b[39m][\u001b[38;5;241m0\u001b[39m][\u001b[38;5;124m'\u001b[39m\u001b[38;5;124membedding\u001b[39m\u001b[38;5;124m'\u001b[39m]\n",
      "File \u001b[0;32m~/.asdf/installs/python/3.11.2/lib/python3.11/site-packages/openai/api_resources/embedding.py:33\u001b[0m, in \u001b[0;36mEmbedding.create\u001b[0;34m(cls, *args, **kwargs)\u001b[0m\n\u001b[1;32m     31\u001b[0m \u001b[38;5;28;01mwhile\u001b[39;00m \u001b[38;5;28;01mTrue\u001b[39;00m:\n\u001b[1;32m     32\u001b[0m     \u001b[38;5;28;01mtry\u001b[39;00m:\n\u001b[0;32m---> 33\u001b[0m         response \u001b[38;5;241m=\u001b[39m \u001b[38;5;28;43msuper\u001b[39;49m\u001b[43m(\u001b[49m\u001b[43m)\u001b[49m\u001b[38;5;241;43m.\u001b[39;49m\u001b[43mcreate\u001b[49m\u001b[43m(\u001b[49m\u001b[38;5;241;43m*\u001b[39;49m\u001b[43margs\u001b[49m\u001b[43m,\u001b[49m\u001b[43m \u001b[49m\u001b[38;5;241;43m*\u001b[39;49m\u001b[38;5;241;43m*\u001b[39;49m\u001b[43mkwargs\u001b[49m\u001b[43m)\u001b[49m\n\u001b[1;32m     35\u001b[0m         \u001b[38;5;66;03m# If a user specifies base64, we'll just return the encoded string.\u001b[39;00m\n\u001b[1;32m     36\u001b[0m         \u001b[38;5;66;03m# This is only for the default case.\u001b[39;00m\n\u001b[1;32m     37\u001b[0m         \u001b[38;5;28;01mif\u001b[39;00m \u001b[38;5;129;01mnot\u001b[39;00m user_provided_encoding_format:\n",
      "File \u001b[0;32m~/.asdf/installs/python/3.11.2/lib/python3.11/site-packages/openai/api_resources/abstract/engine_api_resource.py:153\u001b[0m, in \u001b[0;36mEngineAPIResource.create\u001b[0;34m(cls, api_key, api_base, api_type, request_id, api_version, organization, **params)\u001b[0m\n\u001b[1;32m    127\u001b[0m \u001b[38;5;129m@classmethod\u001b[39m\n\u001b[1;32m    128\u001b[0m \u001b[38;5;28;01mdef\u001b[39;00m \u001b[38;5;21mcreate\u001b[39m(\n\u001b[1;32m    129\u001b[0m     \u001b[38;5;28mcls\u001b[39m,\n\u001b[0;32m   (...)\u001b[0m\n\u001b[1;32m    136\u001b[0m     \u001b[38;5;241m*\u001b[39m\u001b[38;5;241m*\u001b[39mparams,\n\u001b[1;32m    137\u001b[0m ):\n\u001b[1;32m    138\u001b[0m     (\n\u001b[1;32m    139\u001b[0m         deployment_id,\n\u001b[1;32m    140\u001b[0m         engine,\n\u001b[0;32m   (...)\u001b[0m\n\u001b[1;32m    150\u001b[0m         api_key, api_base, api_type, api_version, organization, \u001b[38;5;241m*\u001b[39m\u001b[38;5;241m*\u001b[39mparams\n\u001b[1;32m    151\u001b[0m     )\n\u001b[0;32m--> 153\u001b[0m     response, _, api_key \u001b[38;5;241m=\u001b[39m \u001b[43mrequestor\u001b[49m\u001b[38;5;241;43m.\u001b[39;49m\u001b[43mrequest\u001b[49m\u001b[43m(\u001b[49m\n\u001b[1;32m    154\u001b[0m \u001b[43m        \u001b[49m\u001b[38;5;124;43m\"\u001b[39;49m\u001b[38;5;124;43mpost\u001b[39;49m\u001b[38;5;124;43m\"\u001b[39;49m\u001b[43m,\u001b[49m\n\u001b[1;32m    155\u001b[0m \u001b[43m        \u001b[49m\u001b[43murl\u001b[49m\u001b[43m,\u001b[49m\n\u001b[1;32m    156\u001b[0m \u001b[43m        \u001b[49m\u001b[43mparams\u001b[49m\u001b[38;5;241;43m=\u001b[39;49m\u001b[43mparams\u001b[49m\u001b[43m,\u001b[49m\n\u001b[1;32m    157\u001b[0m \u001b[43m        \u001b[49m\u001b[43mheaders\u001b[49m\u001b[38;5;241;43m=\u001b[39;49m\u001b[43mheaders\u001b[49m\u001b[43m,\u001b[49m\n\u001b[1;32m    158\u001b[0m \u001b[43m        \u001b[49m\u001b[43mstream\u001b[49m\u001b[38;5;241;43m=\u001b[39;49m\u001b[43mstream\u001b[49m\u001b[43m,\u001b[49m\n\u001b[1;32m    159\u001b[0m \u001b[43m        \u001b[49m\u001b[43mrequest_id\u001b[49m\u001b[38;5;241;43m=\u001b[39;49m\u001b[43mrequest_id\u001b[49m\u001b[43m,\u001b[49m\n\u001b[1;32m    160\u001b[0m \u001b[43m        \u001b[49m\u001b[43mrequest_timeout\u001b[49m\u001b[38;5;241;43m=\u001b[39;49m\u001b[43mrequest_timeout\u001b[49m\u001b[43m,\u001b[49m\n\u001b[1;32m    161\u001b[0m \u001b[43m    \u001b[49m\u001b[43m)\u001b[49m\n\u001b[1;32m    163\u001b[0m     \u001b[38;5;28;01mif\u001b[39;00m stream:\n\u001b[1;32m    164\u001b[0m         \u001b[38;5;66;03m# must be an iterator\u001b[39;00m\n\u001b[1;32m    165\u001b[0m         \u001b[38;5;28;01massert\u001b[39;00m \u001b[38;5;129;01mnot\u001b[39;00m \u001b[38;5;28misinstance\u001b[39m(response, OpenAIResponse)\n",
      "File \u001b[0;32m~/.asdf/installs/python/3.11.2/lib/python3.11/site-packages/openai/api_requestor.py:226\u001b[0m, in \u001b[0;36mAPIRequestor.request\u001b[0;34m(self, method, url, params, headers, files, stream, request_id, request_timeout)\u001b[0m\n\u001b[1;32m    205\u001b[0m \u001b[38;5;28;01mdef\u001b[39;00m \u001b[38;5;21mrequest\u001b[39m(\n\u001b[1;32m    206\u001b[0m     \u001b[38;5;28mself\u001b[39m,\n\u001b[1;32m    207\u001b[0m     method,\n\u001b[0;32m   (...)\u001b[0m\n\u001b[1;32m    214\u001b[0m     request_timeout: Optional[Union[\u001b[38;5;28mfloat\u001b[39m, Tuple[\u001b[38;5;28mfloat\u001b[39m, \u001b[38;5;28mfloat\u001b[39m]]] \u001b[38;5;241m=\u001b[39m \u001b[38;5;28;01mNone\u001b[39;00m,\n\u001b[1;32m    215\u001b[0m ) \u001b[38;5;241m-\u001b[39m\u001b[38;5;241m>\u001b[39m Tuple[Union[OpenAIResponse, Iterator[OpenAIResponse]], \u001b[38;5;28mbool\u001b[39m, \u001b[38;5;28mstr\u001b[39m]:\n\u001b[1;32m    216\u001b[0m     result \u001b[38;5;241m=\u001b[39m \u001b[38;5;28mself\u001b[39m\u001b[38;5;241m.\u001b[39mrequest_raw(\n\u001b[1;32m    217\u001b[0m         method\u001b[38;5;241m.\u001b[39mlower(),\n\u001b[1;32m    218\u001b[0m         url,\n\u001b[0;32m   (...)\u001b[0m\n\u001b[1;32m    224\u001b[0m         request_timeout\u001b[38;5;241m=\u001b[39mrequest_timeout,\n\u001b[1;32m    225\u001b[0m     )\n\u001b[0;32m--> 226\u001b[0m     resp, got_stream \u001b[38;5;241m=\u001b[39m \u001b[38;5;28;43mself\u001b[39;49m\u001b[38;5;241;43m.\u001b[39;49m\u001b[43m_interpret_response\u001b[49m\u001b[43m(\u001b[49m\u001b[43mresult\u001b[49m\u001b[43m,\u001b[49m\u001b[43m \u001b[49m\u001b[43mstream\u001b[49m\u001b[43m)\u001b[49m\n\u001b[1;32m    227\u001b[0m     \u001b[38;5;28;01mreturn\u001b[39;00m resp, got_stream, \u001b[38;5;28mself\u001b[39m\u001b[38;5;241m.\u001b[39mapi_key\n",
      "File \u001b[0;32m~/.asdf/installs/python/3.11.2/lib/python3.11/site-packages/openai/api_requestor.py:620\u001b[0m, in \u001b[0;36mAPIRequestor._interpret_response\u001b[0;34m(self, result, stream)\u001b[0m\n\u001b[1;32m    612\u001b[0m     \u001b[38;5;28;01mreturn\u001b[39;00m (\n\u001b[1;32m    613\u001b[0m         \u001b[38;5;28mself\u001b[39m\u001b[38;5;241m.\u001b[39m_interpret_response_line(\n\u001b[1;32m    614\u001b[0m             line, result\u001b[38;5;241m.\u001b[39mstatus_code, result\u001b[38;5;241m.\u001b[39mheaders, stream\u001b[38;5;241m=\u001b[39m\u001b[38;5;28;01mTrue\u001b[39;00m\n\u001b[1;32m    615\u001b[0m         )\n\u001b[1;32m    616\u001b[0m         \u001b[38;5;28;01mfor\u001b[39;00m line \u001b[38;5;129;01min\u001b[39;00m parse_stream(result\u001b[38;5;241m.\u001b[39miter_lines())\n\u001b[1;32m    617\u001b[0m     ), \u001b[38;5;28;01mTrue\u001b[39;00m\n\u001b[1;32m    618\u001b[0m \u001b[38;5;28;01melse\u001b[39;00m:\n\u001b[1;32m    619\u001b[0m     \u001b[38;5;28;01mreturn\u001b[39;00m (\n\u001b[0;32m--> 620\u001b[0m         \u001b[38;5;28;43mself\u001b[39;49m\u001b[38;5;241;43m.\u001b[39;49m\u001b[43m_interpret_response_line\u001b[49m\u001b[43m(\u001b[49m\n\u001b[1;32m    621\u001b[0m \u001b[43m            \u001b[49m\u001b[43mresult\u001b[49m\u001b[38;5;241;43m.\u001b[39;49m\u001b[43mcontent\u001b[49m\u001b[38;5;241;43m.\u001b[39;49m\u001b[43mdecode\u001b[49m\u001b[43m(\u001b[49m\u001b[38;5;124;43m\"\u001b[39;49m\u001b[38;5;124;43mutf-8\u001b[39;49m\u001b[38;5;124;43m\"\u001b[39;49m\u001b[43m)\u001b[49m\u001b[43m,\u001b[49m\n\u001b[1;32m    622\u001b[0m \u001b[43m            \u001b[49m\u001b[43mresult\u001b[49m\u001b[38;5;241;43m.\u001b[39;49m\u001b[43mstatus_code\u001b[49m\u001b[43m,\u001b[49m\n\u001b[1;32m    623\u001b[0m \u001b[43m            \u001b[49m\u001b[43mresult\u001b[49m\u001b[38;5;241;43m.\u001b[39;49m\u001b[43mheaders\u001b[49m\u001b[43m,\u001b[49m\n\u001b[1;32m    624\u001b[0m \u001b[43m            \u001b[49m\u001b[43mstream\u001b[49m\u001b[38;5;241;43m=\u001b[39;49m\u001b[38;5;28;43;01mFalse\u001b[39;49;00m\u001b[43m,\u001b[49m\n\u001b[1;32m    625\u001b[0m \u001b[43m        \u001b[49m\u001b[43m)\u001b[49m,\n\u001b[1;32m    626\u001b[0m         \u001b[38;5;28;01mFalse\u001b[39;00m,\n\u001b[1;32m    627\u001b[0m     )\n",
      "File \u001b[0;32m~/.asdf/installs/python/3.11.2/lib/python3.11/site-packages/openai/api_requestor.py:683\u001b[0m, in \u001b[0;36mAPIRequestor._interpret_response_line\u001b[0;34m(self, rbody, rcode, rheaders, stream)\u001b[0m\n\u001b[1;32m    681\u001b[0m stream_error \u001b[38;5;241m=\u001b[39m stream \u001b[38;5;129;01mand\u001b[39;00m \u001b[38;5;124m\"\u001b[39m\u001b[38;5;124merror\u001b[39m\u001b[38;5;124m\"\u001b[39m \u001b[38;5;129;01min\u001b[39;00m resp\u001b[38;5;241m.\u001b[39mdata\n\u001b[1;32m    682\u001b[0m \u001b[38;5;28;01mif\u001b[39;00m stream_error \u001b[38;5;129;01mor\u001b[39;00m \u001b[38;5;129;01mnot\u001b[39;00m \u001b[38;5;241m200\u001b[39m \u001b[38;5;241m<\u001b[39m\u001b[38;5;241m=\u001b[39m rcode \u001b[38;5;241m<\u001b[39m \u001b[38;5;241m300\u001b[39m:\n\u001b[0;32m--> 683\u001b[0m     \u001b[38;5;28;01mraise\u001b[39;00m \u001b[38;5;28mself\u001b[39m\u001b[38;5;241m.\u001b[39mhandle_error_response(\n\u001b[1;32m    684\u001b[0m         rbody, rcode, resp\u001b[38;5;241m.\u001b[39mdata, rheaders, stream_error\u001b[38;5;241m=\u001b[39mstream_error\n\u001b[1;32m    685\u001b[0m     )\n\u001b[1;32m    686\u001b[0m \u001b[38;5;28;01mreturn\u001b[39;00m resp\n",
      "\u001b[0;31mRateLimitError\u001b[0m: You exceeded your current quota, please check your plan and billing details."
     ]
    }
   ],
   "source": [
    "get_embedding('Esusu has headquarters in New York in United States and is in the field of Fintech. The investors in the company are Next Play Ventures,  Zeal Capital Partners,  SoftBank Group, . You can find more information at https://www.cbinsights.com/company/esusu')"
   ]
  },
  {
   "cell_type": "code",
   "execution_count": null,
   "id": "2f09bb88-7d86-41b1-af20-61ca2128b327",
   "metadata": {},
   "outputs": [],
   "source": []
  }
 ],
 "metadata": {
  "kernelspec": {
   "display_name": "Python 3 (ipykernel)",
   "language": "python",
   "name": "python3"
  },
  "language_info": {
   "codemirror_mode": {
    "name": "ipython",
    "version": 3
   },
   "file_extension": ".py",
   "mimetype": "text/x-python",
   "name": "python",
   "nbconvert_exporter": "python",
   "pygments_lexer": "ipython3",
   "version": "3.11.2"
  }
 },
 "nbformat": 4,
 "nbformat_minor": 5
}
